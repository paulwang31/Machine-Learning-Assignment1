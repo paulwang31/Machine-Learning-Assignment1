{
 "cells": [
  {
   "cell_type": "code",
   "execution_count": 68,
   "metadata": {},
   "outputs": [],
   "source": [
    "import os\n",
    "os.chdir(\"/Users/wangkewei/Desktop/machine learning/ML-DSBA-AI-Assignment_1\")\n",
    "import scipy as sp\n",
    "import numpy as np\n",
    "from sklearn.cross_validation import train_test_split\n",
    "from sklearn import metrics\n",
    "from sklearn.linear_model import LogisticRegression\n",
    "import matplotlib.pyplot as plt\n",
    "from sklearn.metrics import roc_curve, auc\n",
    "from sklearn.metrics import roc_auc_score\n",
    "import timeit"
   ]
  },
  {
   "cell_type": "code",
   "execution_count": 69,
   "metadata": {},
   "outputs": [
    {
     "data": {
      "text/plain": [
       "'/Users/wangkewei/Desktop/machine learning/ML-DSBA-AI-Assignment_1'"
      ]
     },
     "execution_count": 69,
     "metadata": {},
     "output_type": "execute_result"
    }
   ],
   "source": [
    "os.getcwd()"
   ]
  },
  {
   "cell_type": "code",
   "execution_count": 70,
   "metadata": {},
   "outputs": [],
   "source": [
    "import pandas as pd\n",
    "# Load the data set\n",
    "data = pd.read_csv('data.csv', delimiter=',')\n",
    "#load 1st column\n",
    "Y = data.iloc[:,0:1]\n",
    "# load columns 2 − end\n",
    "X = data.iloc[:,1:data.shape[1]]\n",
    "test = pd.read_csv('test.csv', delimiter=',')\n",
    "Y_test = test.iloc[:,0:1]\n",
    "X_test = test.iloc[:,1:data.shape[1]]"
   ]
  },
  {
   "cell_type": "code",
   "execution_count": 71,
   "metadata": {},
   "outputs": [
    {
     "name": "stderr",
     "output_type": "stream",
     "text": [
      "/anaconda3/lib/python3.6/site-packages/sklearn/utils/validation.py:578: DataConversionWarning: A column-vector y was passed when a 1d array was expected. Please change the shape of y to (n_samples, ), for example using ravel().\n",
      "  y = column_or_1d(y, warn=True)\n"
     ]
    }
   ],
   "source": [
    "#for question1\n",
    "model = LogisticRegression()\n",
    "start = timeit.default_timer()\n",
    "model.fit(X, Y)\n",
    "stop = timeit.default_timer()"
   ]
  },
  {
   "cell_type": "code",
   "execution_count": 72,
   "metadata": {},
   "outputs": [],
   "source": [
    "Y_pred = model.predict(X_test)"
   ]
  },
  {
   "cell_type": "code",
   "execution_count": 73,
   "metadata": {},
   "outputs": [],
   "source": [
    "Y_pred_proba = model.predict_proba(X_test)[:,1]"
   ]
  },
  {
   "cell_type": "code",
   "execution_count": 74,
   "metadata": {},
   "outputs": [],
   "source": [
    "fpr, tpr, thresholds = roc_curve(Y_test, Y_pred_proba)"
   ]
  },
  {
   "cell_type": "code",
   "execution_count": 75,
   "metadata": {},
   "outputs": [
    {
     "data": {
      "image/png": "[encoded data removed]",
      "text/plain": [
       "<Figure size 432x288 with 1 Axes>"
      ]
     },
     "metadata": {},
     "output_type": "display_data"
    }
   ],
   "source": [
    "plt.plot(fpr, tpr)\n",
    "plt.plot([0, 1], [0, 1], linestyle='--', lw=2, color='b',\n",
    "         label='Chance', alpha=.8)\n",
    "plt.plot(fpr,tpr)\n",
    "plt.xlabel('False Positive Rate')\n",
    "plt.ylabel('True Positive Rate')\n",
    "plt.title('ROC Curve')\n",
    "plt.show()"
   ]
  },
  {
   "cell_type": "code",
   "execution_count": 76,
   "metadata": {},
   "outputs": [
    {
     "name": "stdout",
     "output_type": "stream",
     "text": [
      "0.9776601239669421\n"
     ]
    }
   ],
   "source": [
    "AUC = roc_auc_score(Y_test,Y_pred_proba)\n",
    "print(AUC)"
   ]
  },
  {
   "cell_type": "code",
   "execution_count": 77,
   "metadata": {},
   "outputs": [
    {
     "name": "stdout",
     "output_type": "stream",
     "text": [
      "Time:  1.1959112840122543\n"
     ]
    }
   ],
   "source": [
    "print('Time: ', stop-start)"
   ]
  },
  {
   "cell_type": "code",
   "execution_count": 78,
   "metadata": {},
   "outputs": [],
   "source": [
    "#for question2\n",
    "from sklearn.feature_selection import RFE"
   ]
  },
  {
   "cell_type": "code",
   "execution_count": 79,
   "metadata": {},
   "outputs": [],
   "source": [
    "runtime = []\n",
    "AUC2 = []"
   ]
  },
  {
   "cell_type": "code",
   "execution_count": 80,
   "metadata": {},
   "outputs": [
    {
     "name": "stderr",
     "output_type": "stream",
     "text": [
      "/anaconda3/lib/python3.6/site-packages/sklearn/utils/validation.py:578: DataConversionWarning: A column-vector y was passed when a 1d array was expected. Please change the shape of y to (n_samples, ), for example using ravel().\n",
      "  y = column_or_1d(y, warn=True)\n"
     ]
    }
   ],
   "source": [
    "#20\n",
    "selection_20 = RFE(model, 20, step = 1)\n",
    "start_20 = timeit.default_timer() \n",
    "selection_20.fit(X,Y)\n",
    "stop_20 = timeit.default_timer() \n",
    "runtime.append(stop_20-start_20)\n",
    "Y_pred_prob_20 = selection_20.predict_proba(X_test)[:,1]\n",
    "AUC2.append(roc_auc_score(Y_test,Y_pred_prob_20))"
   ]
  },
  {
   "cell_type": "code",
   "execution_count": 81,
   "metadata": {},
   "outputs": [
    {
     "name": "stderr",
     "output_type": "stream",
     "text": [
      "/anaconda3/lib/python3.6/site-packages/sklearn/utils/validation.py:578: DataConversionWarning: A column-vector y was passed when a 1d array was expected. Please change the shape of y to (n_samples, ), for example using ravel().\n",
      "  y = column_or_1d(y, warn=True)\n"
     ]
    }
   ],
   "source": [
    "#40\n",
    "selection_40 = RFE(model, 40, step = 1)\n",
    "start_40 = timeit.default_timer() \n",
    "selection_40.fit(X,Y)\n",
    "stop_40 = timeit.default_timer() \n",
    "runtime.append(stop_40-start_40)\n",
    "Y_pred_prob_40 = selection_40.predict_proba(X_test)[:,1]\n",
    "AUC2.append(roc_auc_score(Y_test,Y_pred_prob_40))"
   ]
  },
  {
   "cell_type": "code",
   "execution_count": 82,
   "metadata": {},
   "outputs": [
    {
     "name": "stderr",
     "output_type": "stream",
     "text": [
      "/anaconda3/lib/python3.6/site-packages/sklearn/utils/validation.py:578: DataConversionWarning: A column-vector y was passed when a 1d array was expected. Please change the shape of y to (n_samples, ), for example using ravel().\n",
      "  y = column_or_1d(y, warn=True)\n"
     ]
    }
   ],
   "source": [
    "#60\n",
    "selection_60 = RFE(model, 60, step = 1)\n",
    "start_60 = timeit.default_timer() \n",
    "selection_60.fit(X,Y)\n",
    "stop_60 = timeit.default_timer() \n",
    "runtime.append(stop_60-start_60)\n",
    "Y_pred_prob_60 = selection_60.predict_proba(X_test)[:,1]\n",
    "AUC2.append(roc_auc_score(Y_test,Y_pred_prob_60))"
   ]
  },
  {
   "cell_type": "code",
   "execution_count": 83,
   "metadata": {},
   "outputs": [
    {
     "name": "stderr",
     "output_type": "stream",
     "text": [
      "/anaconda3/lib/python3.6/site-packages/sklearn/utils/validation.py:578: DataConversionWarning: A column-vector y was passed when a 1d array was expected. Please change the shape of y to (n_samples, ), for example using ravel().\n",
      "  y = column_or_1d(y, warn=True)\n"
     ]
    }
   ],
   "source": [
    "#80\n",
    "selection_80 = RFE(model, 80, step = 1)\n",
    "start_80 = timeit.default_timer() \n",
    "selection_80.fit(X,Y)\n",
    "stop_80 = timeit.default_timer() \n",
    "runtime.append(stop_80-start_80)\n",
    "Y_pred_prob_80 = selection_80.predict_proba(X_test)[:,1]\n",
    "AUC2.append(roc_auc_score(Y_test,Y_pred_prob_80))"
   ]
  },
  {
   "cell_type": "code",
   "execution_count": 84,
   "metadata": {},
   "outputs": [
    {
     "name": "stderr",
     "output_type": "stream",
     "text": [
      "/anaconda3/lib/python3.6/site-packages/sklearn/utils/validation.py:578: DataConversionWarning: A column-vector y was passed when a 1d array was expected. Please change the shape of y to (n_samples, ), for example using ravel().\n",
      "  y = column_or_1d(y, warn=True)\n"
     ]
    }
   ],
   "source": [
    "#100\n",
    "selection_100 = RFE(model, 100, step = 1)\n",
    "start_100 = timeit.default_timer() \n",
    "selection_100.fit(X,Y)\n",
    "stop_100 = timeit.default_timer() \n",
    "runtime.append(stop_100-start_100)\n",
    "Y_pred_prob_100 = selection_100.predict_proba(X_test)[:,1]\n",
    "AUC2.append(roc_auc_score(Y_test,Y_pred_prob_100))"
   ]
  },
  {
   "cell_type": "code",
   "execution_count": 85,
   "metadata": {},
   "outputs": [
    {
     "name": "stderr",
     "output_type": "stream",
     "text": [
      "/anaconda3/lib/python3.6/site-packages/sklearn/utils/validation.py:578: DataConversionWarning: A column-vector y was passed when a 1d array was expected. Please change the shape of y to (n_samples, ), for example using ravel().\n",
      "  y = column_or_1d(y, warn=True)\n"
     ]
    }
   ],
   "source": [
    "#150\n",
    "selection_150 = RFE(model, 150, step = 1)\n",
    "start_150 = timeit.default_timer() \n",
    "selection_150.fit(X,Y)\n",
    "stop_150 = timeit.default_timer() \n",
    "runtime.append(stop_150-start_150)\n",
    "Y_pred_prob_150 = selection_150.predict_proba(X_test)[:,1]\n",
    "AUC2.append(roc_auc_score(Y_test,Y_pred_prob_150))"
   ]
  },
  {
   "cell_type": "code",
   "execution_count": 86,
   "metadata": {},
   "outputs": [
    {
     "data": {
      "text/plain": [
       "[90.31326198700117,\n",
       " 86.0984163400135,\n",
       " 83.33518329798244,\n",
       " 76.05272869498003,\n",
       " 63.91755524999462,\n",
       " 19.882781848020386]"
      ]
     },
     "execution_count": 86,
     "metadata": {},
     "output_type": "execute_result"
    }
   ],
   "source": [
    "runtime"
   ]
  },
  {
   "cell_type": "code",
   "execution_count": 87,
   "metadata": {},
   "outputs": [
    {
     "data": {
      "text/plain": [
       "[0.9280272284533648,\n",
       " 0.9540012544273908,\n",
       " 0.964497860094451,\n",
       " 0.9712219598583236,\n",
       " 0.9707054309327037,\n",
       " 0.9771804899645808]"
      ]
     },
     "execution_count": 87,
     "metadata": {},
     "output_type": "execute_result"
    }
   ],
   "source": [
    "AUC2"
   ]
  },
  {
   "cell_type": "code",
   "execution_count": 88,
   "metadata": {},
   "outputs": [
    {
     "data": {
      "image/png": "[encoded data removed]",
      "text/plain": [
       "<Figure size 432x288 with 1 Axes>"
      ]
     },
     "metadata": {},
     "output_type": "display_data"
    }
   ],
   "source": [
    "num_feature = [20,40,60,80,100,150]\n",
    "plt.plot(num_feature,AUC2)\n",
    "plt.xlabel('number of feature')\n",
    "plt.ylabel('AUC')\n",
    "plt.show()"
   ]
  },
  {
   "cell_type": "code",
   "execution_count": 89,
   "metadata": {},
   "outputs": [
    {
     "data": {
      "image/png": "[encoded data removed]",
      "text/plain": [
       "<Figure size 432x288 with 1 Axes>"
      ]
     },
     "metadata": {},
     "output_type": "display_data"
    }
   ],
   "source": [
    "plt.plot(num_feature,runtime)\n",
    "plt.xlabel('number of feature')\n",
    "plt.ylabel('time for training')\n",
    "plt.show()"
   ]
  },
  {
   "cell_type": "code",
   "execution_count": 90,
   "metadata": {},
   "outputs": [],
   "source": [
    "#conclusion: feature selection can't improve the accuracy compared with the previous question's method whihc used all \n",
    "#of the training data. However, we can find that the accuracy will increase with more features selected but the speed\n",
    "#will slow down after 80. The time for training will decrease with more features selected."
   ]
  }
 ],
 "metadata": {
  "kernelspec": {
   "display_name": "Python 3",
   "language": "python",
   "name": "python3"
  },
  "language_info": {
   "codemirror_mode": {
    "name": "ipython",
    "version": 3
   },
   "file_extension": ".py",
   "mimetype": "text/x-python",
   "name": "python",
   "nbconvert_exporter": "python",
   "pygments_lexer": "ipython3",
   "version": "3.6.8"
  }
 },
 "nbformat": 4,
 "nbformat_minor": 2
}
